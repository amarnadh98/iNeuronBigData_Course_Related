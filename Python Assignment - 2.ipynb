{
 "cells": [
  {
   "cell_type": "markdown",
   "id": "f3c54734",
   "metadata": {},
   "source": [
    "> The first 25 questions were done in a seprate jupyter notebook and uploaded in the github with the link : https://github.com/amarnadh98/iNeuronBigData_Course_Related/blob/main/Python%20Assignment%20-%201.ipynb"
   ]
  },
  {
   "cell_type": "markdown",
   "id": "20e3574a",
   "metadata": {},
   "source": [
    "### Q26. What is a string? How can we declare string in Python?\n",
    "> Strings are arrays of bytes representing Unicode characters.\n",
    ">Strings can be created by enclosing characters inside a single quote or double-quotes."
   ]
  },
  {
   "cell_type": "markdown",
   "id": "2f5e76d1",
   "metadata": {},
   "source": [
    "## Q27. How can we access the string using its index?\n",
    "> Strings are ordered sequences of character data. Indexing allows you to access individual characters in a string directly by using a numeric value. String indexing is zero-based: the first character in the string has index 0, the next is 1, and so on.\n"
   ]
  },
  {
   "cell_type": "markdown",
   "id": "b3ce3722",
   "metadata": {},
   "source": [
    "### Q28. Write a code to get the desired output of the following\n",
    "```\n",
    "string = \"Big Data iNeuron\"\n",
    "desired_output = \"iNeuron\"\n",
    "```\n",
    "Code:\n",
    "```\n",
    "str=\"Big Data iNeuron\"\n",
    "out=str.split()\n",
    "print(out[2])\n",
    "```"
   ]
  },
  {
   "cell_type": "markdown",
   "id": "b4ac72c2",
   "metadata": {},
   "source": [
    "### Q29. Write a code to get the desired output of the following\n",
    "```\n",
    "string = \"Big Data iNeuron\"\n",
    "desired_output = \"norueNi\"\n",
    "```\n",
    "Code:\n",
    "```\n",
    "str=\"Big Data iNeuron\"\n",
    "split_in=str.split()\n",
    "out=split_in[2]\n",
    "out=out[::-1]\n",
    "print(out)\n",
    "```"
   ]
  },
  {
   "cell_type": "markdown",
   "id": "ff605307",
   "metadata": {},
   "source": [
    "### Q30. Resverse the string given in the above question.\n",
    "Code:\n",
    "```\n",
    "str=\"Big Data iNeuron\"\n",
    "split_in=str.split()\n",
    "out=split_in[2]\n",
    "out=out[::-1]\n",
    "print(out)\n",
    "```"
   ]
  },
  {
   "cell_type": "markdown",
   "id": "355a053c",
   "metadata": {},
   "source": [
    "### Q31. How can you delete entire string at once?\n",
    "> Just re-assign '' to the string varible."
   ]
  },
  {
   "cell_type": "markdown",
   "id": "4c9cdf62",
   "metadata": {},
   "source": [
    "### Q32. What is escape sequence?\n",
    "> An escape sequence is a combination of characters that has a meaning other than the literal characters contained therein.\n",
    "Also to insert characters that are illegal in a string, use an escape character. An escape character is a backslash \\ followed by the character you want to insert."
   ]
  },
  {
   "cell_type": "markdown",
   "id": "71126d9e",
   "metadata": {},
   "source": [
    "### Q33. How can you print the below string?\n",
    "```\n",
    "'iNeuron's Big Data Course'\n",
    "```\n",
    "Code:\n",
    "```\n",
    "print(\"'iNeuron's Big Data Course'\")\n",
    "```"
   ]
  },
  {
   "cell_type": "markdown",
   "id": "875f65c5",
   "metadata": {},
   "source": [
    "### Q34. What is a list in Python?\n",
    "> A list can be defined as a collection of values or items of different data types. The items in the list are separated with the comma (,) and enclosed with the square brackets []. Python lists are mutable type its mean we can modify its element after it created."
   ]
  },
  {
   "cell_type": "markdown",
   "id": "97c159e2",
   "metadata": {},
   "source": [
    "### Q35. How can you create a list in Python?\n",
    "> List is created by placing the values inside the [] and seperate elements by comma (,)."
   ]
  },
  {
   "cell_type": "markdown",
   "id": "b7908a56",
   "metadata": {},
   "source": [
    "### Q36. How can we access the elements in a list?\n",
    "> Index number is used to access the elements in a list."
   ]
  },
  {
   "cell_type": "markdown",
   "id": "da2a61ea",
   "metadata": {},
   "source": [
    "### Q37. Write a code to access the word \"iNeuron\" from the given list.\n",
    "```\n",
    "lst = [1,2,3,\"Hi\",[45,54, \"iNeuron\"], \"Big Data\"]\n",
    "```\n",
    "Code:\n",
    "```\n",
    "lst = [1,2,3,\"Hi\",[45,54, \"iNeuron\"], \"Big Data\"]\n",
    "print(lst[4][2])\n",
    "```"
   ]
  },
  {
   "cell_type": "markdown",
   "id": "46cc3bce",
   "metadata": {},
   "source": [
    "### Q38. Take a list as an input from the user and find the length of the list.\n",
    "Code:\n",
    "```\n",
    "a=input()\n",
    "print(len(a))\n",
    "```"
   ]
  },
  {
   "cell_type": "markdown",
   "id": "96a32ea8",
   "metadata": {},
   "source": [
    "### Q39. Add the word \"Big\" in the 3rd index of the given list.\n",
    "```\n",
    "lst = [\"Welcome\", \"to\", \"Data\", \"course\"]\n",
    "```\n",
    "Code:\n",
    "```\n",
    "lst = [\"Welcome\", \"to\", \"Data\", \"course\"]\n",
    "lst.insert(2,\"Big\")\n",
    "print(lst)\n",
    "```"
   ]
  },
  {
   "cell_type": "markdown",
   "id": "dee08269",
   "metadata": {},
   "source": [
    "### Q40. What is a tuple? How is it different from list?\n",
    "> Tuples are used to store multiple items in a single variable. A tuple is a collection which is ordered and unchangeable. Difference between tuples and lists is that tuples are immutable as opposed to lists which are mutable."
   ]
  },
  {
   "cell_type": "markdown",
   "id": "751d5f01",
   "metadata": {},
   "source": [
    "### Q41. How can you create a tuple in Python?\n",
    "> Tuple is created by placing the values inside the () and seperate elements by comma (,)."
   ]
  },
  {
   "cell_type": "markdown",
   "id": "8c4c579f",
   "metadata": {},
   "source": [
    "### Q42. Create a tuple and try to add your name in the tuple. Are you able to do it? Support your answer with reason.\n",
    "> Can't modify the contents of the tuple, because tuple is immutable. We can reassign the entire tuple again or we can add (extend)our name by declaring it in another tuple and add it using '+' operator."
   ]
  },
  {
   "cell_type": "markdown",
   "id": "2e480a0c",
   "metadata": {},
   "source": [
    "### Q43. Can two tuple be appended. If yes, write a code for it. If not, why?\n",
    "> Yes, two tuples can be appended.\n",
    "Code:\n",
    "```\n",
    "a=('a','b','c')\n",
    "b=(1,2,3)\n",
    "print(a+b)\n",
    "```"
   ]
  },
  {
   "cell_type": "markdown",
   "id": "0af40654",
   "metadata": {},
   "source": [
    "### Q44. Take a tuple as an input and print the count of elements in it.\n",
    "Code:\n",
    "```\n",
    "a=tuple(input().split())\n",
    "len(a)\n",
    "```"
   ]
  },
  {
   "cell_type": "markdown",
   "id": "08594cda",
   "metadata": {},
   "source": [
    "### Q45. What are sets in Python?\n",
    "> Sets are used to store multiple items in a single variable. A set is a collection which is unordered, unchangeable (but can remove items and add new items), unindexed, and do not allow duplicate values."
   ]
  },
  {
   "cell_type": "markdown",
   "id": "90b2e89c",
   "metadata": {},
   "source": [
    "### Q46. How can you create a set?\n",
    "> Set is created by placing the values inside the {} and seperate elements by comma (,).\n"
   ]
  },
  {
   "cell_type": "markdown",
   "id": "2831dcfb",
   "metadata": {},
   "source": [
    "### Q47. Create a set and add \"iNeuron\" in your set.\n",
    "Code:\n",
    "```\n",
    "a={\"I'm\",\"doing\",\"Big\",\"Data\",2.0,\"Course\",\"from\"}\n",
    "a.add(\"iNeuron\")\n",
    "print(a)\n",
    "```"
   ]
  },
  {
   "cell_type": "markdown",
   "id": "52a5c571",
   "metadata": {},
   "source": [
    "### Q48. Try to add multiple values using add() function.\n",
    "We can use add() function mulitple times or we can use update function which adds two sets.\n",
    "Code 1:\n",
    "```\n",
    "a={\"I'm\"}\n",
    "a.add(\"doing\")\n",
    "b=[\"doing\",\"Big\",\"Data\",2.0,\"Course\",\"from\",\"iNeuron\"]\n",
    "for i in b:\n",
    "    a.add(i)\n",
    "print(a)\n",
    "```\n",
    "### Note_I_put one duplicate value_ but it was removed in output. Sets only have distinct values\n",
    "Code 2:\n",
    "```\n",
    "a={\"I'm\"}\n",
    "b={\"doing\",\"Big\",\"Data\",2.0,\"Course\",\"from\",\"iNeuron\"}\n",
    "a.update(b)\n",
    "print(a)\n",
    "```"
   ]
  },
  {
   "cell_type": "markdown",
   "id": "357981be",
   "metadata": {},
   "source": [
    "### Q49. How is update() different from add()?\n",
    "> We use add() method to add single value to a set. We use update() method to add sequence values to a set."
   ]
  },
  {
   "cell_type": "markdown",
   "id": "c34088ce",
   "metadata": {},
   "source": [
    "### Q50. What is clear() in sets?\n",
    "> clear() method is used to remove all the elements from a Set. Using the clear() method only clears all the element from the set and not deletes the set."
   ]
  },
  {
   "cell_type": "markdown",
   "id": "e00b2582",
   "metadata": {},
   "source": [
    "### Q51. What is frozen set?\n",
    "> Its an immutable set. We can convert tuples, list directly to frozenset using command frozenset(). Dictionaries only keys gets stored in frozenset()."
   ]
  },
  {
   "cell_type": "markdown",
   "id": "d5dcde3c",
   "metadata": {},
   "source": [
    "### Q52. How is frozen set different from set?\n",
    "> Only difference is Set is mutable and frozenset is immutable."
   ]
  },
  {
   "cell_type": "markdown",
   "id": "10f153dc",
   "metadata": {},
   "source": [
    "### Q53. What is union() in sets? Explain via code.\n",
    "> The union() method returns a new set with elements from the set and all other sets (passed as an argument).\n",
    "Code:\n",
    "```\n",
    "A = {'a', 'c', 'd'}\n",
    "B = {'c', 'd', 2 }\n",
    "C = {1, 2, 3}\n",
    "\n",
    "print('A U B =', A.union(B))\n",
    "print('B U C =', B.union(C))\n",
    "print('A U B U C =', A.union(B, C))\n",
    "```"
   ]
  },
  {
   "cell_type": "markdown",
   "id": "3f979b18",
   "metadata": {},
   "source": [
    "### Q54. What is intersection() in sets? Explain via code.\n",
    "> intersection() method returns the intersection of set A with all the sets (passed as argument).\n",
    "Code:\n",
    "```\n",
    "A = {2, 3, 5, 4}\n",
    "B = {2, 5, 100}\n",
    "C = {2, 3, 8, 9, 10}\n",
    "print(B.intersection(A))\n",
    "print(B.intersection(C))\n",
    "print(A.intersection(C))\n",
    "print(C.intersection(A, B))\n",
    "```"
   ]
  },
  {
   "cell_type": "markdown",
   "id": "2b75336c",
   "metadata": {},
   "source": [
    "### Q55. What is dictionary in Python?\n",
    "> Dictionaries are used to store data values in key:value pairs\n",
    "A dictionary is a collection which is ordered*, changeable and do not allow duplicates."
   ]
  },
  {
   "cell_type": "markdown",
   "id": "e8b15d23",
   "metadata": {},
   "source": [
    "### Q56. How is dictionary different from all other data structures.\n",
    "> Dictionary have unique way of storing data values in key:value pairs."
   ]
  },
  {
   "cell_type": "markdown",
   "id": "a5d71b58",
   "metadata": {},
   "source": [
    "### Q57. How can we delare a dictionary in Python?\n",
    "> Dictionary is created by placing the key:value pairs inside the {} and seperate element pairs by comma (,).\n",
    "{key1:pair1,key2:pair2}"
   ]
  },
  {
   "cell_type": "markdown",
   "id": "dfe34eab",
   "metadata": {},
   "source": [
    "### Q58. What will the output of the following?\n",
    "```\n",
    "var = {}\n",
    "print(type(var))\n",
    "```\n",
    "```<class 'dict'>```"
   ]
  },
  {
   "cell_type": "markdown",
   "id": "09124b72",
   "metadata": {},
   "source": [
    "### Q59. How can we add an element in a dictionary?\n",
    "> By assignment method. just assign dic[key]=value\n",
    "\n",
    "Code:\n",
    "```\n",
    "dic= {\n",
    "  \"a\": \"1\",\n",
    "  \"b\": \"2\",\n",
    "  \"c\": \"3\"\n",
    "}\n",
    "dic[\"d\"] = \"4\"\n",
    "print(dic)\n",
    "```\n",
    "Using update() function,\n",
    "code 2:\n",
    "```\n",
    "dic= {\n",
    "  \"a\": \"1\",\n",
    "  \"b\": \"2\",\n",
    "  \"c\": \"3\"\n",
    "}\n",
    "dic.update({\"d\":\"4\"})\n",
    "print(dic)\n",
    "```"
   ]
  },
  {
   "cell_type": "markdown",
   "id": "e97f90c6",
   "metadata": {},
   "source": [
    "### Q60. Create a dictionary and access all the values in that dictionary.\n",
    "> You can access the items of a dictionary by referring to its key name, inside square brackets. There is also a method called get() that will give you the same result.\n",
    "> The keys() method will return a list of all the keys in the dictionary.The values() method will return a list of all the values in the dictionary.The items() method will return each item in a dictionary, as tuples in a list.\n",
    "Code:\n",
    "```\n",
    "dic={'a': '1', 'b': '2', 'c': '3', 'd': '4'}\n",
    "x=dic.get(\"c\")\n",
    "print(x)\n",
    "x=dic.keys()\n",
    "print(x)\n",
    "x=dic.values()\n",
    "print(x)\n",
    "x=dic.items()\n",
    "print(x)\n",
    "```"
   ]
  },
  {
   "cell_type": "markdown",
   "id": "97ceb2b3",
   "metadata": {},
   "source": [
    "### Q61. Create a nested dictionary and access all the element in the inner dictionary.\n",
    "Code:\n",
    "```\n",
    "dic={'A':{'a': '1'},'B':{'b': '2'},'C':{'c': '3'},'D':{'d': '4'}}\n",
    "x=dic.values()\n",
    "print(x)\n",
    "x=dic.get('A')\n",
    "print(x)\n",
    "```"
   ]
  },
  {
   "cell_type": "markdown",
   "id": "15e71a42",
   "metadata": {},
   "source": [
    "### Q62. What is the use of get() function?\n",
    "> Access the items of a dictionary by referring to its key name."
   ]
  },
  {
   "cell_type": "markdown",
   "id": "7024bd9c",
   "metadata": {},
   "source": [
    "### Q63. What is the use of items() function?\n",
    "> Items() method will return each item in a dictionary, as tuples in a list."
   ]
  },
  {
   "cell_type": "markdown",
   "id": "67cee9da",
   "metadata": {},
   "source": [
    "### Q64. What is the use of pop() function?\n",
    "> Removes the specific item from the dictionary.\n",
    "Code:\n",
    "```\n",
    "dic.pop(\"a\")\n",
    "```"
   ]
  },
  {
   "cell_type": "markdown",
   "id": "8e22e7a4",
   "metadata": {},
   "source": [
    "### Q65. What is the use of popitem() function?\n",
    "> popitem() method removes the last inserted key-value pair from the dictionary and returns it as a tuple.\n",
    "Code:\n",
    "```dic.popitem()```"
   ]
  },
  {
   "cell_type": "markdown",
   "id": "edf17c95",
   "metadata": {},
   "source": [
    "### Q66. What is the use of keys() function?\n",
    "> The keys() method will return a list of all the keys in the dictionary"
   ]
  },
  {
   "cell_type": "markdown",
   "id": "6edf3d11",
   "metadata": {},
   "source": [
    "### Q67. What is the use of values() function?\n",
    "> The values() method will return a list of all the values in the dictionary"
   ]
  },
  {
   "cell_type": "markdown",
   "id": "981f07c7",
   "metadata": {},
   "source": [
    "### Q68. What are loops in Python?\n",
    "> A loop is a programming structure that repeats a sequence of instructions until a specific condition is met."
   ]
  },
  {
   "cell_type": "markdown",
   "id": "233f2bb0",
   "metadata": {},
   "source": [
    "### Q69. How many type of loop are there in Python?\n",
    "- While loop\n",
    "- for loop"
   ]
  },
  {
   "cell_type": "markdown",
   "id": "2c39d279",
   "metadata": {},
   "source": [
    "### Q70. What is the difference between for and while loops?\n",
    "> The 'for' loop used when we already knew the number of iterations. The 'while' loop used  when the number of iteration are not exactly known."
   ]
  },
  {
   "cell_type": "markdown",
   "id": "b42ff42b",
   "metadata": {},
   "source": [
    "### Q71. What is the use of continue statement?\n",
    "> Skips the iteration."
   ]
  },
  {
   "cell_type": "markdown",
   "id": "d9b1d36f",
   "metadata": {},
   "source": [
    "### Q72. What is the use of break statement?\n",
    "> Breaks the looping."
   ]
  },
  {
   "cell_type": "markdown",
   "id": "305a535f",
   "metadata": {},
   "source": [
    "### Q73. What is the use of pass statement?\n",
    "> Pass is used to write empty loops"
   ]
  },
  {
   "cell_type": "markdown",
   "id": "1e8c2a3c",
   "metadata": {},
   "source": [
    "### Q74. What is the use of range() function?\n",
    "> The range() function returns a sequence of numbers, starting from 0 by default, and increments by 1 (by default), and stops before a specified number."
   ]
  },
  {
   "cell_type": "markdown",
   "id": "2c4627e3",
   "metadata": {},
   "source": [
    "## Q75. How can you loop over a dictionary?\n",
    "> looping by keys\n",
    "\n",
    "code1:\n",
    "```\n",
    "for i in dic:\n",
    "    print(i)\n",
    "```\n",
    "code2:\n",
    "```\n",
    "for i in dic.keys():\n",
    "    print(i)\n",
    "```\n",
    "> looping by values\n",
    "\n",
    "Code:\n",
    "```\n",
    "for i in dic.values():\n",
    "    print(i)\n",
    "```\n",
    "> looping by items\n",
    "\n",
    "Code1:\n",
    "```\n",
    "for i in dic.items():\n",
    "    print(i)\n",
    "```\n",
    "Code2:\n",
    "```\n",
    "for i in dic:\n",
    "    print(i,dic[i])\n",
    "```"
   ]
  },
  {
   "cell_type": "markdown",
   "id": "29daa65e",
   "metadata": {},
   "source": [
    "### Q76. Write a Python program to find the factorial of a given number."
   ]
  },
  {
   "cell_type": "code",
   "execution_count": 4,
   "id": "e21de144",
   "metadata": {},
   "outputs": [
    {
     "name": "stdout",
     "output_type": "stream",
     "text": [
      "10\n",
      "3628800\n"
     ]
    }
   ],
   "source": [
    "a = int(input())\n",
    "fact = 1\n",
    "for i in range(a,0,-1):\n",
    "    fact *=i\n",
    "    \n",
    "print(fact)"
   ]
  },
  {
   "cell_type": "markdown",
   "id": "44ccc643",
   "metadata": {},
   "source": [
    "### Q77. Write a Python program to calculate the simple interest. Formula to calculate simple interest is SI = (PRT)/100"
   ]
  },
  {
   "cell_type": "code",
   "execution_count": 6,
   "id": "032016bd",
   "metadata": {},
   "outputs": [
    {
     "name": "stdout",
     "output_type": "stream",
     "text": [
      "Principle : ? 20\n",
      "Interest : ? 20\n",
      "time : ? 2\n",
      "simple interest =  8.0\n"
     ]
    }
   ],
   "source": [
    "principle = int(input(\"Principle : ? \"))\n",
    "interest = int(input(\"Interest : ? \"))\n",
    "t = int(input(\"time : ? \"))\n",
    "\n",
    "print(\"simple interest = \",(principle*interest*t)/100)"
   ]
  },
  {
   "cell_type": "markdown",
   "id": "0215f669",
   "metadata": {},
   "source": [
    "### Q78. Write a Python program to calculate the compound interest. Formula of compound interest is A = P(1+ R/100)^t."
   ]
  },
  {
   "cell_type": "code",
   "execution_count": 7,
   "id": "edcb10ed",
   "metadata": {},
   "outputs": [
    {
     "name": "stdout",
     "output_type": "stream",
     "text": [
      "Principle : ? 20\n",
      "Interest : ? 20\n",
      "time : ? 2\n",
      "Compound interest =  28.799999999999997\n"
     ]
    }
   ],
   "source": [
    "principle = int(input(\"Principle : ? \"))\n",
    "interest = int(input(\"Interest : ? \"))\n",
    "t = int(input(\"time : ? \"))\n",
    "\n",
    "print(\"Compound interest = \",principle*((1+interest/100)**t))"
   ]
  },
  {
   "cell_type": "markdown",
   "id": "561ca355",
   "metadata": {},
   "source": [
    "### Q79. Write a Python program to check if a number is prime or not."
   ]
  },
  {
   "cell_type": "code",
   "execution_count": 14,
   "id": "7e5d09c1",
   "metadata": {},
   "outputs": [
    {
     "name": "stdout",
     "output_type": "stream",
     "text": [
      "197\n",
      "number 197 is a prime number\n"
     ]
    }
   ],
   "source": [
    "a = int(input())\n",
    "for i in range(2,a//2):\n",
    "    if a%i == 0:\n",
    "        print('number ',a, 'is not prime')\n",
    "        break\n",
    "        \n",
    "else:\n",
    "    print('number',a,'is a prime number')"
   ]
  },
  {
   "cell_type": "markdown",
   "id": "b43d0990",
   "metadata": {},
   "source": [
    "### Q80. Write a Python program to check Armstrong Number."
   ]
  },
  {
   "cell_type": "code",
   "execution_count": 28,
   "id": "9c9521a8",
   "metadata": {},
   "outputs": [
    {
     "name": "stdout",
     "output_type": "stream",
     "text": [
      "153\n",
      "True\n"
     ]
    }
   ],
   "source": [
    "a = int(input())\n",
    "num = a\n",
    "b = 0\n",
    "c = 0\n",
    "\n",
    "while num > 0 :\n",
    "    b = num % 10\n",
    "    num = num // 10\n",
    "    c+= (b**3)\n",
    "    \n",
    "print(c == a)"
   ]
  },
  {
   "cell_type": "markdown",
   "id": "5daa672f",
   "metadata": {},
   "source": [
    "### Q81. Write a Python program to find the n-th Fibonacci Number."
   ]
  },
  {
   "cell_type": "code",
   "execution_count": 36,
   "id": "076027f9",
   "metadata": {},
   "outputs": [
    {
     "name": "stdout",
     "output_type": "stream",
     "text": [
      "8\n",
      "21\n"
     ]
    }
   ],
   "source": [
    "n = int(input())\n",
    "a = 1\n",
    "b = 1\n",
    "c = a+b\n",
    "k = 3\n",
    "if n == 1:\n",
    "    print(a)\n",
    "elif n == 2:\n",
    "    print(b)\n",
    "elif n == 3:\n",
    "    print(c)\n",
    "else :\n",
    "    while k<n :\n",
    "        a = b\n",
    "        b = c\n",
    "        c = a+b\n",
    "        k+=1\n",
    "    print(c)\n",
    "    \n"
   ]
  },
  {
   "cell_type": "markdown",
   "id": "ac7332e4",
   "metadata": {},
   "source": [
    "### Q82. Write a Python program to interchange the first and last element in a list."
   ]
  },
  {
   "cell_type": "code",
   "execution_count": 38,
   "id": "a89f90fd",
   "metadata": {},
   "outputs": [
    {
     "name": "stdout",
     "output_type": "stream",
     "text": [
      "original list [1, 2, 3, 4, 5, 6, 7, 8, 9, 10]\n",
      "interchanged list [10, 2, 3, 4, 5, 6, 7, 8, 9, 1]\n"
     ]
    }
   ],
   "source": [
    "a = [1,2,3,4,5,6,7,8,9,10]\n",
    "print('original list',a)\n",
    "\n",
    "a[0],a[-1] = a[-1],a[0]\n",
    "\n",
    "print('interchanged list',a)"
   ]
  },
  {
   "cell_type": "markdown",
   "id": "8f22d771",
   "metadata": {},
   "source": [
    "### Q83. Write a Python program to swap two elements in a list."
   ]
  },
  {
   "cell_type": "code",
   "execution_count": 3,
   "id": "2dddf3cc",
   "metadata": {},
   "outputs": [
    {
     "name": "stdout",
     "output_type": "stream",
     "text": [
      "Enter index of elements to swap:2 3\n",
      "[1, 2, 4, 3, 5]\n"
     ]
    }
   ],
   "source": [
    "lst=[1,2,3,4,5]\n",
    "li = [int(x) for x in input(\"Enter index of elements to swap:\").split()]\n",
    "a,b = li[0],li[1]\n",
    "lst[a],lst[b] = lst[b],lst[a]\n",
    "print(lst)\n"
   ]
  },
  {
   "cell_type": "markdown",
   "id": "72a3490f",
   "metadata": {},
   "source": [
    "### Q84. Write a Python program to find N largest element from a list."
   ]
  },
  {
   "cell_type": "code",
   "execution_count": 88,
   "id": "95754b3f",
   "metadata": {},
   "outputs": [
    {
     "name": "stdout",
     "output_type": "stream",
     "text": [
      "N - ? 4\n",
      "4\n",
      "7\n",
      "9\n",
      "10\n"
     ]
    }
   ],
   "source": [
    "n = int(input(\"N - ? \"))\n",
    "a = [10,15,9,234,4,56,7]\n",
    "a = sorted(a)\n",
    "\n",
    "for i in range(n):\n",
    "    print(a[i])"
   ]
  },
  {
   "cell_type": "markdown",
   "id": "e3274cfc",
   "metadata": {},
   "source": [
    "### Q85. Write a Python program to find cumulative sum of a list."
   ]
  },
  {
   "cell_type": "code",
   "execution_count": 40,
   "id": "e2338e50",
   "metadata": {},
   "outputs": [
    {
     "name": "stdout",
     "output_type": "stream",
     "text": [
      "sum =  55\n"
     ]
    }
   ],
   "source": [
    "a = [1,2,3,4,5,6,7,8,9,10]\n",
    "b = 0\n",
    "for i in a:\n",
    "    b+=i\n",
    "print(\"sum = \",b)"
   ]
  },
  {
   "cell_type": "markdown",
   "id": "a4df16a1",
   "metadata": {},
   "source": [
    "### Q86. Write a Python program to check if a string is palindrome or not."
   ]
  },
  {
   "cell_type": "code",
   "execution_count": 43,
   "id": "a8f2c1a7",
   "metadata": {},
   "outputs": [
    {
     "name": "stdout",
     "output_type": "stream",
     "text": [
      "amarama\n",
      "True\n"
     ]
    }
   ],
   "source": [
    "a = input()\n",
    "print(a == a[::-1])"
   ]
  },
  {
   "cell_type": "markdown",
   "id": "5a3bb926",
   "metadata": {},
   "source": [
    "### Q87. Write a Python program to remove i'th element from a string."
   ]
  },
  {
   "cell_type": "code",
   "execution_count": 50,
   "id": "a6596161",
   "metadata": {},
   "outputs": [
    {
     "name": "stdout",
     "output_type": "stream",
     "text": [
      "enter ith element : ? 5\n",
      "before removal of  5 th element [1, 2, 3, 4, 5, 6, 7, 8, 9, 10]\n",
      "after removal of  5 th element [1, 2, 3, 4, 6, 7, 8, 9, 10]\n"
     ]
    }
   ],
   "source": [
    "i = int(input(\"enter ith element : ? \"))\n",
    "a = [1,2,3,4,5,6,7,8,9,10]\n",
    "print('before removal of ',i,'th element',a)\n",
    "a.pop(i-1)\n",
    "print('after removal of ',i,'th element',a)"
   ]
  },
  {
   "cell_type": "markdown",
   "id": "a00703de",
   "metadata": {},
   "source": [
    "### Q88. Write a Python program to check if a substring is present in a given string."
   ]
  },
  {
   "cell_type": "code",
   "execution_count": 6,
   "id": "0e2e2ff9",
   "metadata": {},
   "outputs": [
    {
     "name": "stdout",
     "output_type": "stream",
     "text": [
      "True\n"
     ]
    }
   ],
   "source": [
    "st = 'amarnadh reddy'\n",
    "sub_st = 'amar'\n",
    "\n",
    "print((sub_st in st))\n"
   ]
  },
  {
   "cell_type": "markdown",
   "id": "225d9541",
   "metadata": {},
   "source": [
    "### Q89. Write a Python program to find words which are greater than given length k."
   ]
  },
  {
   "cell_type": "code",
   "execution_count": 93,
   "id": "6aa5fc4c",
   "metadata": {},
   "outputs": [
    {
     "name": "stdout",
     "output_type": "stream",
     "text": [
      "6\n",
      "ineuron\n",
      "nothing\n"
     ]
    }
   ],
   "source": [
    "k = int(input())\n",
    "a = ['amar','ineuron','python','nothing']\n",
    "for i in a:\n",
    "    if len(i) > k :\n",
    "        print(i)"
   ]
  },
  {
   "cell_type": "markdown",
   "id": "99a63636",
   "metadata": {},
   "source": [
    "### Q90. Write a Python program to extract unquire dictionary values."
   ]
  },
  {
   "cell_type": "code",
   "execution_count": 7,
   "id": "1bd04833",
   "metadata": {},
   "outputs": [
    {
     "name": "stdout",
     "output_type": "stream",
     "text": [
      "{1, 2, 3, 4, 5}\n"
     ]
    }
   ],
   "source": [
    "di = {'a':1,'b':2,'c':3,'d':4,'e':5}\n",
    "\n",
    "print(set(di.values()))"
   ]
  },
  {
   "cell_type": "markdown",
   "id": "0f32675a",
   "metadata": {},
   "source": [
    "### Q91. Write a Python program to merge two dictionary."
   ]
  },
  {
   "cell_type": "code",
   "execution_count": 8,
   "id": "108bb710",
   "metadata": {},
   "outputs": [
    {
     "name": "stdout",
     "output_type": "stream",
     "text": [
      "{'a': 1, 'b': 2, 'c': 3, 'd': 4, 'e': 5}\n"
     ]
    }
   ],
   "source": [
    "di_1 = {'a':1,'b':2,'c':3}\n",
    "di_2 = {'d':4,'e':5}\n",
    "\n",
    "di_1.update(di_2)\n",
    "\n",
    "print(di_1)"
   ]
  },
  {
   "cell_type": "markdown",
   "id": "5932dcf0",
   "metadata": {},
   "source": [
    "### Q92. Write a Python program to convert a list of tuples into dictionary.\n",
    "#### Input : [('Sachin', 10), ('MSD', 7), ('Kohli', 18), ('Rohit', 45)]\n",
    "#### Output : {'Sachin': 10, 'MSD': 7, 'Kohli': 18, 'Rohit': 45}"
   ]
  },
  {
   "cell_type": "code",
   "execution_count": 54,
   "id": "b633f68a",
   "metadata": {},
   "outputs": [
    {
     "name": "stdout",
     "output_type": "stream",
     "text": [
      "{'Sachin': 10, 'MSD': 7, 'Kohli': 18, 'Rohit': 45}\n"
     ]
    }
   ],
   "source": [
    "a = [('Sachin', 10), ('MSD', 7), ('Kohli', 18), ('Rohit', 45)]\n",
    "d = {}\n",
    "for i in range(len(a)):\n",
    "    d[a[i][0]] = a[i][1]\n",
    "    \n",
    "print(d)"
   ]
  },
  {
   "cell_type": "markdown",
   "id": "38a5ea44",
   "metadata": {},
   "source": [
    "### Q93. Write a Python program to create a list of tuples from given list having number and its cube in each tuple.\n",
    "#### Input: list = [9, 5, 6]\n",
    "#### Output: [(9, 729), (5, 125), (6, 216)]"
   ]
  },
  {
   "cell_type": "code",
   "execution_count": 55,
   "id": "4943d3b7",
   "metadata": {},
   "outputs": [
    {
     "name": "stdout",
     "output_type": "stream",
     "text": [
      "[(9, 729), (5, 125), (6, 216)]\n"
     ]
    }
   ],
   "source": [
    "a = [9,5,6]\n",
    "t = []\n",
    "for i in a:\n",
    "    t.append((i,i**3))\n",
    "    \n",
    "print(t)"
   ]
  },
  {
   "cell_type": "markdown",
   "id": "424fce38",
   "metadata": {},
   "source": [
    "### Q94. Write a Python program to get all combinations of 2 tuples.\n",
    "#### Input : test_tuple1 = (7, 2), test_tuple2 = (7, 8)\n",
    "#### Output : [(7, 7), (7, 8), (2, 7), (2, 8), (7, 7), (7, 2), (8, 7), (8, 2)]"
   ]
  },
  {
   "cell_type": "code",
   "execution_count": 10,
   "id": "9cce6812",
   "metadata": {},
   "outputs": [
    {
     "name": "stdout",
     "output_type": "stream",
     "text": [
      "[(7, 7), (7, 8), (2, 7), (2, 8), (7, 7), (7, 2), (8, 7), (8, 2)]\n"
     ]
    }
   ],
   "source": [
    "test_tuple1 = (7, 2)\n",
    "test_tuple2 = (7, 8)\n",
    "li=[]\n",
    "for i in test_tuple1:\n",
    "    for j in test_tuple2:\n",
    "        li.append((i,j))\n",
    "for i in test_tuple2:\n",
    "    for j in test_tuple1:\n",
    "        li.append((i,j))  \n",
    "print(li)"
   ]
  },
  {
   "cell_type": "markdown",
   "id": "ab726d3d",
   "metadata": {},
   "source": [
    "### Q95. Write a Python program to sort a list of tuples by second item.\n",
    "#### Input : [('for', 24), ('Geeks', 8), ('Geeks', 30)] \n",
    "#### Output : [('Geeks', 8), ('for', 24), ('Geeks', 30)]"
   ]
  },
  {
   "cell_type": "code",
   "execution_count": 11,
   "id": "9e186804",
   "metadata": {},
   "outputs": [
    {
     "name": "stdout",
     "output_type": "stream",
     "text": [
      "[('Geeks', 8), ('for', 24), ('Geeks', 30)]\n"
     ]
    }
   ],
   "source": [
    "li=[('for', 24), ('Geeks', 8), ('Geeks', 30)]\n",
    "li.sort(key=lambda x:x[1])\n",
    "print(li)"
   ]
  },
  {
   "cell_type": "markdown",
   "id": "61d4c6c0",
   "metadata": {},
   "source": [
    "### Q96. Write a python program to print below pattern."
   ]
  },
  {
   "cell_type": "raw",
   "id": "9eab3abc",
   "metadata": {},
   "source": [
    "* \n",
    "* * \n",
    "* * * \n",
    "* * * * \n",
    "* * * * * "
   ]
  },
  {
   "cell_type": "code",
   "execution_count": 67,
   "id": "adb9b2ef",
   "metadata": {},
   "outputs": [
    {
     "name": "stdout",
     "output_type": "stream",
     "text": [
      "* \n",
      "* * \n",
      "* * * \n",
      "* * * * \n",
      "* * * * * \n"
     ]
    }
   ],
   "source": [
    "for i in range(1,6):\n",
    "    for k in range(1,i+1):\n",
    "        print('*',end=' ')\n",
    "        \n",
    "    print()"
   ]
  },
  {
   "cell_type": "markdown",
   "id": "26e722c2",
   "metadata": {},
   "source": [
    "### Q97. Write a python program to print below pattern."
   ]
  },
  {
   "cell_type": "raw",
   "id": "4e5c8032",
   "metadata": {},
   "source": [
    "    *\n",
    "   **\n",
    "  ***\n",
    " ****\n",
    "*****"
   ]
  },
  {
   "cell_type": "code",
   "execution_count": 77,
   "id": "5133b08b",
   "metadata": {},
   "outputs": [
    {
     "name": "stdout",
     "output_type": "stream",
     "text": [
      "    *\n",
      "   **\n",
      "  ***\n",
      " ****\n",
      "*****\n"
     ]
    }
   ],
   "source": [
    "for i in range(1,6):\n",
    "    for k in range(5-i,0,-1):\n",
    "        print(' ',end='')\n",
    "    for l in range(1,i+1):\n",
    "        print('*',end='')\n",
    "    print()"
   ]
  },
  {
   "cell_type": "markdown",
   "id": "1124e0dc",
   "metadata": {},
   "source": [
    "### Q98. Write a python program to print below pattern."
   ]
  },
  {
   "cell_type": "raw",
   "id": "c30b4707",
   "metadata": {},
   "source": [
    "    * \n",
    "   * * \n",
    "  * * * \n",
    " * * * * \n",
    "* * * * * "
   ]
  },
  {
   "cell_type": "code",
   "execution_count": 12,
   "id": "89081c56",
   "metadata": {},
   "outputs": [
    {
     "name": "stdout",
     "output_type": "stream",
     "text": [
      "     * \n",
      "    * * \n",
      "   * * * \n",
      "  * * * * \n",
      " * * * * * \n"
     ]
    }
   ],
   "source": [
    "n=5\n",
    "for i in range(n):\n",
    "    print((n-i)*\" \"+(i+1)*\"* \")"
   ]
  },
  {
   "cell_type": "markdown",
   "id": "5d7bafe5",
   "metadata": {},
   "source": [
    "### Q99. Write a python program to print below pattern."
   ]
  },
  {
   "cell_type": "raw",
   "id": "8ca301f5",
   "metadata": {},
   "source": [
    "1 \n",
    "1 2 \n",
    "1 2 3 \n",
    "1 2 3 4 \n",
    "1 2 3 4 5"
   ]
  },
  {
   "cell_type": "code",
   "execution_count": 73,
   "id": "1e64f68a",
   "metadata": {},
   "outputs": [
    {
     "name": "stdout",
     "output_type": "stream",
     "text": [
      "1 \n",
      "1 2 \n",
      "1 2 3 \n",
      "1 2 3 4 \n",
      "1 2 3 4 5 \n"
     ]
    }
   ],
   "source": [
    "for i in range(1,6):\n",
    "    for k in range(1,i+1):\n",
    "        print(k,end=' ')\n",
    "    print()"
   ]
  },
  {
   "cell_type": "markdown",
   "id": "29484480",
   "metadata": {},
   "source": [
    "### Q100. Write a python program to print below pattern."
   ]
  },
  {
   "cell_type": "raw",
   "id": "ad429061",
   "metadata": {},
   "source": [
    "A \n",
    "B B \n",
    "C C C \n",
    "D D D D \n",
    "E E E E E "
   ]
  },
  {
   "cell_type": "code",
   "execution_count": 86,
   "id": "bde8e38b",
   "metadata": {},
   "outputs": [
    {
     "name": "stdout",
     "output_type": "stream",
     "text": [
      "A \n",
      "B B \n",
      "C C C \n",
      "D D D D \n",
      "E E E E E \n"
     ]
    }
   ],
   "source": [
    "for i in range(0,5):\n",
    "    for k in range(1,i+2):\n",
    "        print(chr(65+i),end=' ')\n",
    "        \n",
    "    print()"
   ]
  },
  {
   "cell_type": "code",
   "execution_count": null,
   "id": "d91b497c",
   "metadata": {},
   "outputs": [],
   "source": []
  }
 ],
 "metadata": {
  "kernelspec": {
   "display_name": "Python 3 (ipykernel)",
   "language": "python",
   "name": "python3"
  },
  "language_info": {
   "codemirror_mode": {
    "name": "ipython",
    "version": 3
   },
   "file_extension": ".py",
   "mimetype": "text/x-python",
   "name": "python",
   "nbconvert_exporter": "python",
   "pygments_lexer": "ipython3",
   "version": "3.9.12"
  }
 },
 "nbformat": 4,
 "nbformat_minor": 5
}
