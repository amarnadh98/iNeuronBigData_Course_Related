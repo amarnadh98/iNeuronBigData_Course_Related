{
 "cells": [
  {
   "cell_type": "markdown",
   "id": "12661d0c",
   "metadata": {},
   "source": [
    "### Q1. Why do we call Python as a general purpose and high-level programming language?"
   ]
  },
  {
   "cell_type": "markdown",
   "id": "5e982e3b",
   "metadata": {},
   "source": [
    "#### Python is a general purpose language as it can be used in different domains with the respective frameworks and libraries.\n",
    "#### Python is called a High-level programming language because the code will be written in the human understandable language rather than machine understandable language ie, binary."
   ]
  },
  {
   "cell_type": "markdown",
   "id": "084aacd2",
   "metadata": {},
   "source": [
    "### Q2. Why is Python called a dynamically typed language?"
   ]
  },
  {
   "cell_type": "markdown",
   "id": "932f29a7",
   "metadata": {},
   "source": [
    "#### Because it states the type of variable in the runtime of program, automatically takes care of memory management and no errors even if we don't declare the type of variable"
   ]
  },
  {
   "cell_type": "markdown",
   "id": "aa409552",
   "metadata": {},
   "source": [
    "### Q3. List some pros and cons of Python programming language?"
   ]
  },
  {
   "cell_type": "markdown",
   "id": "76c40bbd",
   "metadata": {},
   "source": [
    "#### Pros - Beginner friendly, Large community, extensive libraries\n",
    "#### Cons - Slower than compiled languages, security"
   ]
  },
  {
   "cell_type": "markdown",
   "id": "ce100f5c",
   "metadata": {},
   "source": [
    "### Q4. In what all domains can we use Python?"
   ]
  },
  {
   "cell_type": "markdown",
   "id": "a1b1b1a6",
   "metadata": {},
   "source": [
    "#### Web development, Data science, Machine Learning, Automation, Game development etc"
   ]
  },
  {
   "cell_type": "markdown",
   "id": "dcc2f939",
   "metadata": {},
   "source": [
    "### Q5. What are variable and how can we declare them?"
   ]
  },
  {
   "cell_type": "markdown",
   "id": "93ef372b",
   "metadata": {},
   "source": [
    "#### Variable is a name given to the memory locations. The declaration is automatically done in python"
   ]
  },
  {
   "cell_type": "markdown",
   "id": "5a82c8fe",
   "metadata": {},
   "source": [
    "### Q6. How can we take an input from the user in Python?"
   ]
  },
  {
   "cell_type": "markdown",
   "id": "e9049275",
   "metadata": {},
   "source": [
    "#### a = input()"
   ]
  },
  {
   "cell_type": "markdown",
   "id": "eca764a8",
   "metadata": {},
   "source": [
    "### Q7. What is the default datatype of the value that has been taken as an input using input() function?"
   ]
  },
  {
   "cell_type": "markdown",
   "id": "0b64edde",
   "metadata": {},
   "source": [
    "#### String"
   ]
  },
  {
   "cell_type": "markdown",
   "id": "35975013",
   "metadata": {},
   "source": [
    "### Q8. What is type casting?"
   ]
  },
  {
   "cell_type": "markdown",
   "id": "477aae92",
   "metadata": {},
   "source": [
    "#### The conversion of one type of data type into another is called Type Casting"
   ]
  },
  {
   "cell_type": "markdown",
   "id": "542bb2cb",
   "metadata": {},
   "source": [
    "### Q9. Can we take more than one input from the user using single input() function? If yes, how? If no, why?"
   ]
  },
  {
   "cell_type": "markdown",
   "id": "75ef2a24",
   "metadata": {},
   "source": [
    "#### Yes. We can take multiple inputs using single \"input()\" function and use \"split()\" method to separate them."
   ]
  },
  {
   "cell_type": "markdown",
   "id": "cd356fd4",
   "metadata": {},
   "source": [
    "### Q10. What are keywords?"
   ]
  },
  {
   "cell_type": "markdown",
   "id": "2881dba3",
   "metadata": {},
   "source": [
    "#### Keywords are special reserved words that have specific meaning and purpose."
   ]
  },
  {
   "cell_type": "markdown",
   "id": "ca7fedbe",
   "metadata": {},
   "source": [
    "### Q11. Can we use keywords as a variable? Support your answer with reason."
   ]
  },
  {
   "cell_type": "markdown",
   "id": "82c86596",
   "metadata": {},
   "source": [
    "#### They can't be used for any other purposes except for the intended purpose."
   ]
  },
  {
   "cell_type": "markdown",
   "id": "5b9395d4",
   "metadata": {},
   "source": [
    "### Q12. What is indentation? What's the use of indentaion in Python?"
   ]
  },
  {
   "cell_type": "markdown",
   "id": "758db8d0",
   "metadata": {},
   "source": [
    "#### Whitespace is used for indentation in Python. To indicate a block of code in Python, you must indent each line of the block by the same amount. They are used in control statements and functions."
   ]
  },
  {
   "cell_type": "markdown",
   "id": "0096558d",
   "metadata": {},
   "source": [
    "### Q13. How can we throw some output in Python?"
   ]
  },
  {
   "cell_type": "markdown",
   "id": "fbbe3b5e",
   "metadata": {},
   "source": [
    "#### print()"
   ]
  },
  {
   "cell_type": "markdown",
   "id": "b8742c40",
   "metadata": {},
   "source": [
    "### Q14. What are operators in Python?"
   ]
  },
  {
   "cell_type": "markdown",
   "id": "8660acdc",
   "metadata": {},
   "source": [
    "#### Python Operators are used to perform operations on values and variables. These are standard symbols used for the purpose of logical and arithmetic operations."
   ]
  },
  {
   "cell_type": "markdown",
   "id": "af57fb59",
   "metadata": {},
   "source": [
    "### Q15. What is difference between / and // operators?"
   ]
  },
  {
   "cell_type": "markdown",
   "id": "21e9ee15",
   "metadata": {},
   "source": [
    "#### \"/\" operator gives the Float value of division whereas \"//\" gives integer or rounded value of the division. "
   ]
  },
  {
   "cell_type": "markdown",
   "id": "f1c515d9",
   "metadata": {},
   "source": [
    "### Q16. Write a code that gives following as an output.\n",
    "```\n",
    "iNeuroniNeuroniNeuroniNeuron\n",
    "```"
   ]
  },
  {
   "cell_type": "code",
   "execution_count": 3,
   "id": "8f0195f2",
   "metadata": {},
   "outputs": [
    {
     "name": "stdout",
     "output_type": "stream",
     "text": [
      "iNeuroniNeuroniNeuroniNeuron\n"
     ]
    }
   ],
   "source": [
    "print('iNeuron'*4)"
   ]
  },
  {
   "cell_type": "markdown",
   "id": "61d78df9",
   "metadata": {},
   "source": [
    "### Q17. Write a code to take a number as an input from the user and check if the number is odd or even."
   ]
  },
  {
   "cell_type": "code",
   "execution_count": 5,
   "id": "f857f7c9",
   "metadata": {},
   "outputs": [
    {
     "name": "stdout",
     "output_type": "stream",
     "text": [
      "13\n",
      "ODD\n"
     ]
    }
   ],
   "source": [
    "a = int(input())\n",
    "\n",
    "if a%2 == 0 :\n",
    "    print('EVEN')\n",
    "    \n",
    "else:\n",
    "    print('ODD')"
   ]
  },
  {
   "cell_type": "markdown",
   "id": "455d74c8",
   "metadata": {},
   "source": [
    "### Q18. What are boolean operator?"
   ]
  },
  {
   "cell_type": "markdown",
   "id": "997b6561",
   "metadata": {},
   "source": [
    "#### Boolean Operators are simple words (AND, OR & NOT) used to return True or False.\n",
    "##### and\t- Logical AND: Returns True only if both the operands are true,else Returns False\n",
    "##### or\t- Logical OR: Returns True if either of the operands is true, else Returns False\n",
    "##### not\t- Logical NOT: Returns True if the operand is false and Viceversa"
   ]
  },
  {
   "cell_type": "markdown",
   "id": "b5b9b412",
   "metadata": {},
   "source": [
    "### Q19. What will the output of the following?\n",
    "```\n",
    "1 or 0\n",
    "\n",
    "0 and 0\n",
    "\n",
    "True and False and True\n",
    "\n",
    "1 or 0 or 0"
   ]
  },
  {
   "cell_type": "code",
   "execution_count": 1,
   "id": "2c0bf09d",
   "metadata": {},
   "outputs": [
    {
     "name": "stdout",
     "output_type": "stream",
     "text": [
      "1\n",
      "0\n",
      "False\n",
      "1\n"
     ]
    }
   ],
   "source": [
    "print(1 or 0)\n",
    "print(0 and 0)\n",
    "print(True and False and True)\n",
    "print(1 or 0 or 0)"
   ]
  },
  {
   "cell_type": "markdown",
   "id": "4896562f",
   "metadata": {},
   "source": [
    "### Q20. What are conditional statements in Python?"
   ]
  },
  {
   "cell_type": "markdown",
   "id": "3539769e",
   "metadata": {},
   "source": [
    "#### The coditional statements allow us the option that if the condition is satisfied, then only the statement is executed. If not, it goes to the next line of code."
   ]
  },
  {
   "cell_type": "markdown",
   "id": "a91d90b4",
   "metadata": {},
   "source": [
    "### Q21. What is use of 'if', 'elif' and 'else' keywords?"
   ]
  },
  {
   "cell_type": "markdown",
   "id": "42410a32",
   "metadata": {},
   "source": [
    "#### if - condition will be stated and if satisfied then only the code under \"if\" is executed.\n",
    "#### elif - if above condition not satifies and want to give multiploe cases or conditoins\n",
    "#### else - if all conditions fails, then the code in \"else\" block will be executed"
   ]
  },
  {
   "cell_type": "markdown",
   "id": "d7326f3a",
   "metadata": {},
   "source": [
    "### Q22. Write a code to take the age of person as an input and if age >= 18 display \"I can vote\". If age is < 18 display \"I can't vote\"."
   ]
  },
  {
   "cell_type": "code",
   "execution_count": 7,
   "id": "b4483636",
   "metadata": {},
   "outputs": [
    {
     "name": "stdout",
     "output_type": "stream",
     "text": [
      "8\n",
      "I can't Vote\n"
     ]
    }
   ],
   "source": [
    "a = int(input())\n",
    "if a >= 18 :\n",
    "    print('I can Vote')\n",
    "else:\n",
    "    print(\"I can't Vote\")"
   ]
  },
  {
   "cell_type": "markdown",
   "id": "6df60986",
   "metadata": {},
   "source": [
    "### Q23. Write a code that displays the sum of all the even numbers from the given list.\n",
    "```\n",
    "numbers = [12, 75, 150, 180, 145, 525, 50]\n",
    "```"
   ]
  },
  {
   "cell_type": "code",
   "execution_count": 13,
   "id": "e935f617",
   "metadata": {},
   "outputs": [
    {
     "name": "stdout",
     "output_type": "stream",
     "text": [
      "1137\n"
     ]
    }
   ],
   "source": [
    "numbers = [12, 75, 150, 180, 145, 525, 50]\n",
    "sum = 0\n",
    "for x in numbers:\n",
    "    sum+=x\n",
    "print(sum)"
   ]
  },
  {
   "cell_type": "markdown",
   "id": "7c49ca95",
   "metadata": {},
   "source": [
    "### Q24. Write a code to take 3 numbers as an input from the user and display the greatest no as output."
   ]
  },
  {
   "cell_type": "code",
   "execution_count": 17,
   "id": "f57dfd5a",
   "metadata": {},
   "outputs": [
    {
     "name": "stdout",
     "output_type": "stream",
     "text": [
      "2\n",
      "23\n",
      "203\n",
      "max number among given three numbers is  203\n"
     ]
    }
   ],
   "source": [
    "a = int(input())\n",
    "b = int(input())\n",
    "c = int(input())\n",
    "\n",
    "print(\"max number among given three numbers is \",max(a,b,c))"
   ]
  },
  {
   "cell_type": "markdown",
   "id": "bc155f09",
   "metadata": {},
   "source": [
    "### Q25. Write a program to display only those numbers from a list that satisfy the following conditions\n",
    "\n",
    "- The number must be divisible by five\n",
    "\n",
    "- If the number is greater than 150, then skip it and move to the next number\n",
    "\n",
    "- If the number is greater than 500, then stop the loop\n",
    "```\n",
    "numbers = [12, 75, 150, 180, 145, 525, 50]\n",
    "```"
   ]
  },
  {
   "cell_type": "code",
   "execution_count": 2,
   "id": "23f477cf",
   "metadata": {},
   "outputs": [
    {
     "name": "stdout",
     "output_type": "stream",
     "text": [
      "75\n",
      "150\n",
      "145\n",
      "50\n"
     ]
    }
   ],
   "source": [
    "li = [12,75,150,180,145,525,50]\n",
    "\n",
    "for num in li :\n",
    "    if num % 5 == 0:\n",
    "        \n",
    "        if num > 150 :\n",
    "            continue\n",
    "        \n",
    "        if num > 500 :\n",
    "            break\n",
    "            \n",
    "        print(num)\n",
    "        \n",
    "    else :\n",
    "        continue\n",
    "    "
   ]
  },
  {
   "cell_type": "code",
   "execution_count": null,
   "id": "854b9ccc",
   "metadata": {},
   "outputs": [],
   "source": []
  }
 ],
 "metadata": {
  "kernelspec": {
   "display_name": "Python 3 (ipykernel)",
   "language": "python",
   "name": "python3"
  },
  "language_info": {
   "codemirror_mode": {
    "name": "ipython",
    "version": 3
   },
   "file_extension": ".py",
   "mimetype": "text/x-python",
   "name": "python",
   "nbconvert_exporter": "python",
   "pygments_lexer": "ipython3",
   "version": "3.9.12"
  }
 },
 "nbformat": 4,
 "nbformat_minor": 5
}
